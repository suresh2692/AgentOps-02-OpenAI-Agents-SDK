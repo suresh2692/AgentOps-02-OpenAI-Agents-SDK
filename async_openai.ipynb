{
 "cells": [
  {
   "cell_type": "code",
   "execution_count": null,
   "id": "a7fa0a35",
   "metadata": {},
   "outputs": [],
   "source": [
    "from dotenv import load_dotenv\n",
    "from openai import AsyncOpenAI, OpenAI, AsyncAzureOpenAI\n",
    "from typing import Dict\n",
    "from agents import Agent, WebSearchTool, trace, Runner, gen_trace_id, function_tool, OpenAIChatCompletionsModel\n",
    "import asyncio\n",
    "import os\n",
    "from pathlib import Path"
   ]
  },
  {
   "cell_type": "code",
   "execution_count": 40,
   "id": "2ea9c0c3",
   "metadata": {},
   "outputs": [
    {
     "data": {
      "text/plain": [
       "True"
      ]
     },
     "execution_count": 40,
     "metadata": {},
     "output_type": "execute_result"
    }
   ],
   "source": [
    "envpath = \"/Users/suresh/Documents/Learnings/Ed-doner chatbot/agents/.env\"\n",
    "load_dotenv(dotenv_path=envpath, override=True)"
   ]
  },
  {
   "cell_type": "markdown",
   "id": "fc67906c",
   "metadata": {},
   "source": [
    "### Sales Pitch Agent"
   ]
  },
  {
   "cell_type": "code",
   "execution_count": null,
   "id": "d66ad040",
   "metadata": {},
   "outputs": [],
   "source": [
    "azure_modelname=os.getenv('AZURE_OPENAI_DEPLOYMENT_NAME')\n",
    "azure_client = AsyncAzureOpenAI(\n",
    "    api_key=os.getenv('AZURE_OPENAI_API_KEY'),\n",
    "    azure_endpoint=os.getenv('AZURE_OPENAI_API_ENDPOINT'),\n",
    "    api_version = os.getenv('AZURE_OPENAI_API_VERSION'))\n",
    "azure_model= OpenAIChatCompletionsModel(model=azure_modelname, openai_client=azure_client)"
   ]
  },
  {
   "cell_type": "code",
   "execution_count": null,
   "id": "c7526635",
   "metadata": {},
   "outputs": [],
   "source": [
    "model_name = \"llama-2-13b-chat\"\n",
    "ollama_client = AsyncOpenAI(base_url='http://localhost:1234/v1', api_key='ollama')\n",
    "ollama_model= OpenAIChatCompletionsModel(model=model_name, openai_client=ollama_client)"
   ]
  },
  {
   "cell_type": "code",
   "execution_count": 55,
   "id": "ee2a5ef5",
   "metadata": {},
   "outputs": [],
   "source": [
    "instructions1 = \"You are a sales agent working for agentOne, \\\n",
    "a company that builds games for kids, powered by AI. \\\n",
    "You write professional, serious cold emails.\"\n",
    "\n",
    "instructions2 = \"You are a humorous, engaging sales agent working for agentOne, \\\n",
    "a company that builds games for kids, powered by AI. \\\n",
    "You write witty, engaging cold emails that are likely to get a response.\"\n",
    "\n",
    "instructions3 = \"You are a creative sales agent working for agentOne, \\\n",
    "a company that builds games for kids, powered by AI. \\\n",
    "You write concise, to the point cold emails.\""
   ]
  },
  {
   "cell_type": "code",
   "execution_count": 56,
   "id": "d03f743f",
   "metadata": {},
   "outputs": [],
   "source": [
    "sales_agent1 = Agent(name=\"Sales Agent\", instructions=instructions1, model=ollama_model)\n",
    "sales_agent2 =  Agent(name=\"Humorous Agent\", instructions=instructions2, model=ollama_model)\n",
    "sales_agent3  = Agent(name=\"Creative Agent\",instructions=instructions3,model=ollama_model)"
   ]
  },
  {
   "cell_type": "code",
   "execution_count": 57,
   "id": "4a56e164",
   "metadata": {},
   "outputs": [],
   "source": [
    "description = \"Write a cold sales email\"\n",
    "\n",
    "tool1 = sales_agent1.as_tool(tool_name=\"sales_agent1\", tool_description=description)\n",
    "tool2 = sales_agent2.as_tool(tool_name=\"sales_agent2\", tool_description=description)\n",
    "tool3 = sales_agent3.as_tool(tool_name=\"sales_agent3\", tool_description=description)"
   ]
  },
  {
   "cell_type": "code",
   "execution_count": 58,
   "id": "259cdcc0",
   "metadata": {},
   "outputs": [],
   "source": [
    "tools = [tool1, tool2, tool3]"
   ]
  },
  {
   "cell_type": "code",
   "execution_count": 59,
   "id": "3d912e6e",
   "metadata": {},
   "outputs": [],
   "source": [
    "subject_instructions = \"You can write a subject for a cold sales email. \\\n",
    "You are given a message and you need to write a subject for an email that is likely to get a response.\"\n",
    "\n",
    "html_instructions = \"You can convert a text email body to an HTML email body. \\\n",
    "You are given a text email body which might have some markdown \\\n",
    "and you need to convert it to an HTML email body with simple, clear, compelling layout and design.\"\n",
    "\n",
    "subject_writer = Agent(name=\"Email subject writer\", instructions=subject_instructions, model=ollama_model)\n",
    "subject_tool = subject_writer.as_tool(tool_name=\"subject_writer\", tool_description=\"Write a subject for a cold sales email\")\n",
    "\n",
    "html_converter = Agent(name=\"HTML email body converter\", instructions=html_instructions, model=ollama_model)\n",
    "html_tool = html_converter.as_tool(tool_name=\"html_converter\",tool_description=\"Convert a text email body to an HTML email body\")"
   ]
  },
  {
   "cell_type": "code",
   "execution_count": 60,
   "id": "bf6e348c",
   "metadata": {},
   "outputs": [],
   "source": [
    "@function_tool\n",
    "def send_html_email(subject: str, html_body: str) -> Dict[str, str]:\n",
    "    \"\"\" Send out an email with the given subject and HTML body to all sales prospects \"\"\"\n",
    "    print(\"subject:\", subject)\n",
    "    print(\"html_body:\", html_body)\n",
    "    return {\"subject\": subject, \"message\": html_body}"
   ]
  },
  {
   "cell_type": "code",
   "execution_count": 61,
   "id": "aaa0ab67",
   "metadata": {},
   "outputs": [],
   "source": [
    "email_tools = [subject_tool, html_tool, send_html_email]"
   ]
  },
  {
   "cell_type": "code",
   "execution_count": 62,
   "id": "9f5e4f87",
   "metadata": {},
   "outputs": [],
   "source": [
    "instructions =\"You are an email formatter and sender. You receive the body of an email to be sent. \\\n",
    "You first use the subject_writer tool to write a subject for the email, then use the html_converter tool to convert the body to HTML. \\\n",
    "Finally, you use the send_html_email tool to send the email with the subject and HTML body.\"\n",
    "\n",
    "\n",
    "emailer_agent = Agent(\n",
    "    name=\"Email Manager\",\n",
    "    instructions=instructions,\n",
    "    tools=email_tools,\n",
    "    model=ollama_model,\n",
    "    handoff_description=\"Convert an email to HTML and send it\")\n",
    "\n",
    "\n",
    "handoffs = [emailer_agent]"
   ]
  },
  {
   "cell_type": "code",
   "execution_count": 65,
   "id": "c531f585",
   "metadata": {},
   "outputs": [],
   "source": [
    "sales_manager_instructions = \"\"\"\n",
    "You are a Sales Manager at agentOne. Your goal is to find the single best cold sales email using the sales_agent tools.\n",
    " \n",
    "Follow these steps carefully:\n",
    "1. Generate Drafts: Use all three sales_agent tools to generate three different email drafts. Do not proceed until all three drafts are ready.\n",
    " \n",
    "2. Evaluate and Select: Review the drafts and choose the single best email using your judgment of which one is most effective.\n",
    "You can use the tools multiple times if you're not satisfied with the results from the first try.\n",
    " \n",
    "3. Handoff for Sending: Pass ONLY the winning email draft to the 'Email Manager' agent. The Email Manager will take care of formatting and sending.\n",
    " \n",
    "Crucial Rules:\n",
    "- You must use the sales agent tools to generate the drafts — do not write them yourself.\n",
    "- You must hand off exactly ONE email to the Email Manager — never more than one.\n",
    "\"\"\"\n",
    "\n",
    "\n",
    "sales_manager = Agent(\n",
    "    name=\"Sales Manager\",\n",
    "    instructions=sales_manager_instructions,\n",
    "    tools=tools,\n",
    "    handoffs=handoffs,\n",
    "    model=ollama_model)\n",
    "\n",
    "message = \"Send out a cold sales email addressed to Dear CEO\"\n",
    "\n",
    "\n",
    "result = await Runner.run(sales_manager, message)"
   ]
  },
  {
   "cell_type": "code",
   "execution_count": null,
   "id": "ef2ce9a6",
   "metadata": {},
   "outputs": [],
   "source": [
    "result.final_output"
   ]
  },
  {
   "cell_type": "code",
   "execution_count": null,
   "id": "e6918e4b",
   "metadata": {},
   "outputs": [],
   "source": []
  },
  {
   "cell_type": "code",
   "execution_count": null,
   "id": "b3d4c72d",
   "metadata": {},
   "outputs": [],
   "source": []
  },
  {
   "cell_type": "code",
   "execution_count": null,
   "id": "08f5ae53",
   "metadata": {},
   "outputs": [],
   "source": []
  }
 ],
 "metadata": {
  "kernelspec": {
   "display_name": "agents (3.12.8)",
   "language": "python",
   "name": "python3"
  },
  "language_info": {
   "codemirror_mode": {
    "name": "ipython",
    "version": 3
   },
   "file_extension": ".py",
   "mimetype": "text/x-python",
   "name": "python",
   "nbconvert_exporter": "python",
   "pygments_lexer": "ipython3",
   "version": "3.12.8"
  }
 },
 "nbformat": 4,
 "nbformat_minor": 5
}
